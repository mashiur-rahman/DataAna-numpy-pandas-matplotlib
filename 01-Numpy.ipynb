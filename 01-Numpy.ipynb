{
  "nbformat": 4,
  "nbformat_minor": 0,
  "metadata": {
    "colab": {
      "provenance": [],
      "authorship_tag": "ABX9TyN85KjlK525tk+ZH4HkdO/d",
      "include_colab_link": true
    },
    "kernelspec": {
      "name": "python3",
      "display_name": "Python 3"
    },
    "language_info": {
      "name": "python"
    }
  },
  "cells": [
    {
      "cell_type": "markdown",
      "metadata": {
        "id": "view-in-github",
        "colab_type": "text"
      },
      "source": [
        "<a href=\"https://colab.research.google.com/github/mashiur-rahman/DataAna-numpy-pandas-matplotlib/blob/main/01-Numpy.ipynb\" target=\"_parent\"><img src=\"https://colab.research.google.com/assets/colab-badge.svg\" alt=\"Open In Colab\"/></a>"
      ]
    },
    {
      "cell_type": "code",
      "execution_count": 1,
      "metadata": {
        "id": "xp_RQxwM01yU"
      },
      "outputs": [],
      "source": [
        "import numpy as np"
      ]
    },
    {
      "cell_type": "code",
      "source": [
        "cvalues = [20.1, 20.8, 21.9, 22.5, 22.7, 22.3, 21.8, 21.2, 20.9, 20.1]\n",
        "print(cvalues)\n",
        "type(cvalues)"
      ],
      "metadata": {
        "colab": {
          "base_uri": "https://localhost:8080/"
        },
        "id": "mWVowLz72tyk",
        "outputId": "de6649d8-f650-4709-ce4e-6ede50023adc"
      },
      "execution_count": 10,
      "outputs": [
        {
          "output_type": "stream",
          "name": "stdout",
          "text": [
            "[20.1, 20.8, 21.9, 22.5, 22.7, 22.3, 21.8, 21.2, 20.9, 20.1]\n"
          ]
        },
        {
          "output_type": "execute_result",
          "data": {
            "text/plain": [
              "list"
            ]
          },
          "metadata": {},
          "execution_count": 10
        }
      ]
    },
    {
      "cell_type": "code",
      "source": [
        "C = np.array(cvalues)\n",
        "print(C)\n",
        "type(C)"
      ],
      "metadata": {
        "colab": {
          "base_uri": "https://localhost:8080/"
        },
        "id": "gQtmuihh22eG",
        "outputId": "8a39562d-7648-49a2-fbf8-ab4aa98df6a7"
      },
      "execution_count": 11,
      "outputs": [
        {
          "output_type": "stream",
          "name": "stdout",
          "text": [
            "[20.1 20.8 21.9 22.5 22.7 22.3 21.8 21.2 20.9 20.1]\n"
          ]
        },
        {
          "output_type": "execute_result",
          "data": {
            "text/plain": [
              "numpy.ndarray"
            ]
          },
          "metadata": {},
          "execution_count": 11
        }
      ]
    },
    {
      "cell_type": "code",
      "source": [
        "print(C * 9 / 5 + 32)"
      ],
      "metadata": {
        "colab": {
          "base_uri": "https://localhost:8080/"
        },
        "id": "HFREDbiU3EBn",
        "outputId": "a2dfb4af-e259-4b6b-efd5-e4fffc8890dc"
      },
      "execution_count": 12,
      "outputs": [
        {
          "output_type": "stream",
          "name": "stdout",
          "text": [
            "[68.18 69.44 71.42 72.5  72.86 72.14 71.24 70.16 69.62 68.18]\n"
          ]
        }
      ]
    },
    {
      "cell_type": "code",
      "source": [
        "print(C)"
      ],
      "metadata": {
        "colab": {
          "base_uri": "https://localhost:8080/"
        },
        "id": "r97fFwBV3GFO",
        "outputId": "63b99bd7-b76f-424f-997c-7998f6c3c991"
      },
      "execution_count": 13,
      "outputs": [
        {
          "output_type": "stream",
          "name": "stdout",
          "text": [
            "[20.1 20.8 21.9 22.5 22.7 22.3 21.8 21.2 20.9 20.1]\n"
          ]
        }
      ]
    },
    {
      "cell_type": "code",
      "source": [
        "fvalues = [ x*9/5 + 32 for x in cvalues]\n",
        "print(fvalues)\n",
        "type(fvalues)"
      ],
      "metadata": {
        "colab": {
          "base_uri": "https://localhost:8080/"
        },
        "id": "-N6NGVmS3JkS",
        "outputId": "11a7bf56-60b1-4b70-e1a5-e6c66257905e"
      },
      "execution_count": 25,
      "outputs": [
        {
          "output_type": "stream",
          "name": "stdout",
          "text": [
            "[68.18, 69.44, 71.42, 72.5, 72.86, 72.14, 71.24000000000001, 70.16, 69.62, 68.18]\n"
          ]
        },
        {
          "output_type": "execute_result",
          "data": {
            "text/plain": [
              "list"
            ]
          },
          "metadata": {},
          "execution_count": 25
        }
      ]
    },
    {
      "cell_type": "code",
      "source": [
        "import matplotlib.pyplot as plt\n",
        "plt.plot(C)\n",
        "plt.show()"
      ],
      "metadata": {
        "colab": {
          "base_uri": "https://localhost:8080/",
          "height": 430
        },
        "id": "D9DbnwQB3dXT",
        "outputId": "37d98671-b338-40c4-dd9b-67e77c576b3d"
      },
      "execution_count": 14,
      "outputs": [
        {
          "output_type": "display_data",
          "data": {
            "text/plain": [
              "<Figure size 640x480 with 1 Axes>"
            ],
            "image/png": "[encoded data removed]"
          },
          "metadata": {}
        }
      ]
    },
    {
      "cell_type": "code",
      "source": [
        "from sys import getsizeof as size\n",
        "lst = [24, 12, 57]\n",
        "print(\"lst\", lst)\n",
        "size_of_list_object = size(lst) # only green box\n",
        "size_of_elements = len(lst) * size(lst[0]) # 24, 12, 57\n",
        "total_list_size = size_of_list_object + size_of_elements\n",
        "print(\"Size without the size of the elements: \", size_of_list_object)\n",
        "print(\"Size of all the elements: \", size_of_elements)\n",
        "print(\"Total size of list, including elements: \", total_list_size)"
      ],
      "metadata": {
        "colab": {
          "base_uri": "https://localhost:8080/"
        },
        "id": "PevOY7Sp3vMe",
        "outputId": "6972deaa-60dc-4892-ab56-03b574c2fcf2"
      },
      "execution_count": 31,
      "outputs": [
        {
          "output_type": "stream",
          "name": "stdout",
          "text": [
            "lst [24, 12, 57]\n",
            "Size without the size of the elements:  88\n",
            "Size of all the elements:  84\n",
            "Total size of list, including elements:  172\n"
          ]
        }
      ]
    },
    {
      "cell_type": "code",
      "source": [
        "lst = [24, 12, 57, 42, 46, 50, 24, 12, 31, 62]\n",
        "print(\"lst\", lst)\n",
        "size_of_list_object = size(lst) # only green box\n",
        "size_of_elements = len(lst) * size(lst[0]) # 24, 12, 57, 42\n",
        "total_list_size = size_of_list_object + size_of_elements\n",
        "print(\"Size without the size of the elements: \", size_of_list_object)\n",
        "print(\"Size of all the elements: \", size_of_elements)\n",
        "print(\"Total size of list, including elements: \", total_list_size)\n",
        "lst = []\n",
        "print(\"Emtpy list size: \", size(lst))"
      ],
      "metadata": {
        "colab": {
          "base_uri": "https://localhost:8080/"
        },
        "id": "DwIzs9FO8moh",
        "outputId": "24c85a27-63f3-4e31-8fee-1ae6ef1d5c05"
      },
      "execution_count": 37,
      "outputs": [
        {
          "output_type": "stream",
          "name": "stdout",
          "text": [
            "lst [24, 12, 57, 42, 46, 50, 24, 12, 31, 62]\n",
            "Size without the size of the elements:  136\n",
            "Size of all the elements:  280\n",
            "Total size of list, including elements:  416\n",
            "Emtpy list size:  56\n"
          ]
        }
      ]
    },
    {
      "cell_type": "code",
      "source": [
        "a = np.array([24, 12, 57])\n",
        "print(size(a))\n",
        "e = np.array([])\n",
        "print(size(e))"
      ],
      "metadata": {
        "id": "WFZGUpCm9Qqz",
        "outputId": "7d09519e-bb9f-4bc4-9c5e-d615d166f8ef",
        "colab": {
          "base_uri": "https://localhost:8080/"
        }
      },
      "execution_count": 38,
      "outputs": [
        {
          "output_type": "stream",
          "name": "stdout",
          "text": [
            "136\n",
            "112\n"
          ]
        }
      ]
    },
    {
      "cell_type": "code",
      "source": [
        "a = np.array([24, 12, 57], np.int8)\n",
        "print(size(a) - 96)\n",
        "a = np.array([24, 12, 57], np.int16)\n",
        "print(size(a) - 96)\n",
        "a = np.array([24, 12, 57], np.int32)\n",
        "print(size(a) - 96)\n",
        "a = np.array([24, 12, 57], np.int64)\n",
        "print(size(a) - 96)"
      ],
      "metadata": {
        "id": "2oh_gpvr9tXM",
        "outputId": "f44229f7-b063-42b8-f596-bcd23883acfb",
        "colab": {
          "base_uri": "https://localhost:8080/"
        }
      },
      "execution_count": 39,
      "outputs": [
        {
          "output_type": "stream",
          "name": "stdout",
          "text": [
            "19\n",
            "22\n",
            "28\n",
            "40\n"
          ]
        }
      ]
    },
    {
      "cell_type": "code",
      "source": [
        "import time\n",
        "\n",
        "size_of_vec = 1000\n",
        "\n",
        "def pure_python_version():\n",
        "  t1 = time.time()\n",
        "  X = range(size_of_vec)\n",
        "  Y = range(size_of_vec)\n",
        "  Z = [X[i] + Y[i] for i in range(len(X)) ]\n",
        "  return time.time() - t1\n",
        "\n",
        "def numpy_version():\n",
        "  t1 = time.time()\n",
        "  X = np.arange(size_of_vec)\n",
        "  Y = np.arange(size_of_vec)\n",
        "  Z = X + Y\n",
        "  return time.time() - t1"
      ],
      "metadata": {
        "id": "RX5j65cP97El"
      },
      "execution_count": 45,
      "outputs": []
    },
    {
      "cell_type": "code",
      "source": [
        "t1 = pure_python_version()\n",
        "t2 = numpy_version()\n",
        "print(t1, t2)\n",
        "print(\"Numpy is in this example \" + str(t1/t2) + \" faster!\")"
      ],
      "metadata": {
        "id": "RxpAP0cy-LBy",
        "outputId": "450ba71f-151f-4a5f-89a1-226fe36c4b36",
        "colab": {
          "base_uri": "https://localhost:8080/"
        }
      },
      "execution_count": 46,
      "outputs": [
        {
          "output_type": "stream",
          "name": "stdout",
          "text": [
            "0.00021600723266601562 9.894371032714844e-05\n",
            "Numpy is in this example 2.183132530120482 faster!\n"
          ]
        }
      ]
    }
  ]
}